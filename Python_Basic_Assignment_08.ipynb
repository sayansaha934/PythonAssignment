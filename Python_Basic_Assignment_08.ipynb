{
 "cells": [
  {
   "cell_type": "markdown",
   "id": "4e937d64",
   "metadata": {},
   "source": [
    "1.Is the Python Standard Library included with PyInputPlus?\n",
    "\n",
    "No, PyInputPlus is not part of python standard library. It is installed using pip, pip install PyInputPlus."
   ]
  },
  {
   "cell_type": "markdown",
   "id": "501039b1",
   "metadata": {},
   "source": [
    "2.Why is PyInputPlus commonly imported with import pyinputplus as pypi?\n",
    "\n",
    "so that we can enter a shorter name when calling the module's function."
   ]
  },
  {
   "cell_type": "markdown",
   "id": "64dac0f8",
   "metadata": {},
   "source": [
    "3.How do you distinguish between inputInt() and inputFloat()?\n",
    "\n",
    "inputInt() accepts an integer value,   inputFloat() accepts a floating-point numeric value."
   ]
  },
  {
   "cell_type": "markdown",
   "id": "82f50851",
   "metadata": {},
   "source": [
    "4.Using PyInputPlus, how do you ensure that the user enters a whole number between 0 and 99?\n",
    "\n",
    "we have to assign min=0 and max=99 inside pyinputplus.inputInt()."
   ]
  },
  {
   "cell_type": "markdown",
   "id": "eb32ae5b",
   "metadata": {},
   "source": [
    "5.What is transferred to the keyword arguments allowRegexes and blockRegexes?\n",
    "\n",
    "allowRegexes and blockRegexes keyword take a list of regular expression as a string to determine what pyinputplus function will accept or reject as valid input."
   ]
  },
  {
   "cell_type": "markdown",
   "id": "1f906186",
   "metadata": {},
   "source": [
    "6.If a blank input is entered three times, what does inputStr(limit=3) do?\n",
    "\n",
    "ValidationException and RetryLimitException will be returned.                   "
   ]
  },
  {
   "cell_type": "markdown",
   "id": "18b7a021",
   "metadata": {},
   "source": [
    "7.If blank input is entered three times, what does inputStr(limit=3, default='hello') do?\n",
    "\n",
    "It returns 'hello'."
   ]
  }
 ],
 "metadata": {
  "kernelspec": {
   "display_name": "Python 3 (ipykernel)",
   "language": "python",
   "name": "python3"
  },
  "language_info": {
   "codemirror_mode": {
    "name": "ipython",
    "version": 3
   },
   "file_extension": ".py",
   "mimetype": "text/x-python",
   "name": "python",
   "nbconvert_exporter": "python",
   "pygments_lexer": "ipython3",
   "version": "3.9.9"
  }
 },
 "nbformat": 4,
 "nbformat_minor": 5
}
