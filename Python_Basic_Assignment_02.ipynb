{
 "cells": [
  {
   "cell_type": "markdown",
   "id": "3a812fea",
   "metadata": {},
   "source": [
    "1.What are the two values of the Boolean data type? How do you write them?\n",
    "\n",
    "Two values of the boolean data type are 1 and 0. It can be written as True and False."
   ]
  },
  {
   "cell_type": "markdown",
   "id": "fb5e344b",
   "metadata": {},
   "source": [
    "2.What are the three different types of Boolean operators?\n",
    "\n",
    "AND, OR, NOT"
   ]
  },
  {
   "cell_type": "markdown",
   "id": "6fa464b8",
   "metadata": {},
   "source": [
    "3.Make a list of each Boolean operator's truth tables (i.e. every possible combination of Boolean values for the operator and what it evaluate ).\n",
    "\n",
    "AND(0 and 0 = 0, 1 and 0 = 0, 1 and 0 = 0, 1 and 1 = 1); OR(0 or 0 =  0, 0 or 1 = 1, 1 or 0 = 1, 1 or 1 = 1); NOT(not 1 = False, not 0 = True) "
   ]
  },
  {
   "cell_type": "markdown",
   "id": "79b056a6",
   "metadata": {},
   "source": [
    "4.What are the values of the following expressions?\n",
    "(5 > 4) and (3 == 5)\n",
    "not (5 > 4)\n",
    "(5 > 4) or (3 == 5)\n",
    "not ((5 > 4) or (3 == 5))\n",
    "(True and True) and (True == False)\n",
    "(not False) or (not True)\n",
    "\n",
    "\n",
    "(5 > 4) and (3 == 5) = False; not (5 > 4) = False; (5 > 4) or (3 == 5) = True; not ((5 > 4) or (3 == 5)) = False; (True and True) and (True == False) = False; (not False) or (not True) = True"
   ]
  },
  {
   "cell_type": "markdown",
   "id": "e2accc2f",
   "metadata": {},
   "source": [
    "5.What are the six comparison operators?\n",
    "\n",
    " ( >, <, ==, !=, >=, <= )"
   ]
  },
  {
   "cell_type": "markdown",
   "id": "3377a06c",
   "metadata": {},
   "source": [
    "6. How do you tell the difference between the equal to and assignment operators?Describe a condition and when you would use one.\n",
    "\n",
    "For assignment \"=\" is used and for equal to \"==\" is used. "
   ]
  },
  {
   "cell_type": "code",
   "execution_count": 54,
   "id": "4854f249",
   "metadata": {},
   "outputs": [
    {
     "name": "stdout",
     "output_type": "stream",
     "text": [
      "length is not 5\n"
     ]
    }
   ],
   "source": [
    "a='math'   # Here \"=\" is used as assignment\n",
    "if len(a)==5:  # Here \"==\" is used as equal to\n",
    "    print('length is 5')\n",
    "else:\n",
    "    print('length is not 5')"
   ]
  },
  {
   "cell_type": "code",
   "execution_count": 55,
   "id": "bda6fbba",
   "metadata": {},
   "outputs": [],
   "source": [
    "# 7. Identify the three blocks in this code:\n",
    "# spam = 0\n",
    "# if spam == 10:\n",
    "#     print('eggs')\n",
    "# if spam > 5:\n",
    "#     print('bacon')\n",
    "# else:\n",
    "#     print('ham')\n",
    "#     print('spam')\n",
    "#     print('spam')\n",
    "\n",
    "#1st block               \n",
    "# if spam == 10:\n",
    "#     print('eggs')\n",
    "\n",
    "#2nd block\n",
    "# if spam > 5:\n",
    "#     print('bacon')\n",
    "\n",
    "#3rd block\n",
    "# else:\n",
    "#     print('ham')\n",
    "#     print('spam')\n",
    "#     print('spam')"
   ]
  },
  {
   "cell_type": "code",
   "execution_count": 56,
   "id": "491c9b65",
   "metadata": {},
   "outputs": [
    {
     "name": "stdout",
     "output_type": "stream",
     "text": [
      "Howdy\n"
     ]
    }
   ],
   "source": [
    "# 8. Write code that prints Hello if 1 is stored in spam, prints Howdy if 2 is stored in spam, and prints Greetings! if anything else is stored in spam.\n",
    "\n",
    "spam = 2\n",
    "if spam == 1:\n",
    "    print(\"Hello\")\n",
    "elif spam == 2:\n",
    "    print(\"Howdy\")\n",
    "else:\n",
    "    print('Greetings!')"
   ]
  },
  {
   "cell_type": "markdown",
   "id": "b4d9a0b3",
   "metadata": {},
   "source": [
    "9.If your programme is stuck in an endless loop, what keys you’ll press?\n",
    "\n",
    "Ctrl+C"
   ]
  },
  {
   "cell_type": "markdown",
   "id": "212053f2",
   "metadata": {},
   "source": [
    "10.How can you tell the difference between break and continue?\n",
    "\n",
    "\"break\" eliminates the execution of remaining iteration of loop, \"continue\" terminates only current iteration of the loop and resume the control of the program to next iteration of that loop enclosing 'continue' "
   ]
  },
  {
   "cell_type": "markdown",
   "id": "3139208b",
   "metadata": {},
   "source": [
    "11.In a for loop, what is the difference between range(10), range(0, 10), and range(0, 10, 1)?\n",
    "\n",
    "All returns the same result. In range(10) only stop is given, in range(0,10) start and stop are given, in range(0,10,1) start, stop, step are given. "
   ]
  },
  {
   "cell_type": "markdown",
   "id": "9ef40e15",
   "metadata": {},
   "source": [
    "12.Write a short program that prints the numbers 1 to 10 using a for loop. Then write an equivalent program that prints the numbers 1 to 10 using a while loop."
   ]
  },
  {
   "cell_type": "code",
   "execution_count": 57,
   "id": "ad4aca79",
   "metadata": {},
   "outputs": [
    {
     "name": "stdout",
     "output_type": "stream",
     "text": [
      "1\n",
      "2\n",
      "3\n",
      "4\n",
      "5\n",
      "6\n",
      "7\n",
      "8\n",
      "9\n",
      "10\n"
     ]
    }
   ],
   "source": [
    "for i in range(1,11):\n",
    "    print(i)"
   ]
  },
  {
   "cell_type": "code",
   "execution_count": 58,
   "id": "7fbb1668",
   "metadata": {},
   "outputs": [
    {
     "name": "stdout",
     "output_type": "stream",
     "text": [
      "1\n",
      "2\n",
      "3\n",
      "4\n",
      "5\n",
      "6\n",
      "7\n",
      "8\n",
      "9\n",
      "10\n"
     ]
    }
   ],
   "source": [
    "i=1\n",
    "while i<=10:\n",
    "    print(i)\n",
    "    i=i+1"
   ]
  },
  {
   "cell_type": "markdown",
   "id": "f0be559a",
   "metadata": {},
   "source": [
    "13.If you had a function named bacon() inside a module named spam, how would you call it after importing spam?\n",
    "\n",
    "spam.bacon()"
   ]
  }
 ],
 "metadata": {
  "kernelspec": {
   "display_name": "Python 3 (ipykernel)",
   "language": "python",
   "name": "python3"
  },
  "language_info": {
   "codemirror_mode": {
    "name": "ipython",
    "version": 3
   },
   "file_extension": ".py",
   "mimetype": "text/x-python",
   "name": "python",
   "nbconvert_exporter": "python",
   "pygments_lexer": "ipython3",
   "version": "3.9.9"
  }
 },
 "nbformat": 4,
 "nbformat_minor": 5
}
