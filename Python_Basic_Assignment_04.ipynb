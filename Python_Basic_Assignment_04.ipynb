{
 "cells": [
  {
   "cell_type": "markdown",
   "id": "c1d40122",
   "metadata": {},
   "source": [
    "1.What exactly is []?\n",
    "\n",
    "It is a list"
   ]
  },
  {
   "cell_type": "markdown",
   "id": "827e4aa4",
   "metadata": {},
   "source": [
    "2.In a list of values stored in a variable called spam, how would you assign the value 'hello' as the third value? (Assume [2, 4, 6, 8, 10] are in spam.)\n",
    "\n",
    "spam.insert(2, 'hello')"
   ]
  },
  {
   "cell_type": "markdown",
   "id": "650dc2f5",
   "metadata": {},
   "source": [
    "### Let's pretend the spam includes the list ['a', 'b', 'c', 'd'] for the next three queries.\n"
   ]
  },
  {
   "cell_type": "markdown",
   "id": "7cb3d3f8",
   "metadata": {},
   "source": [
    "3.What is the value of spam[int(int('3' * 2) / 11)]?\n",
    "\n",
    "'d'"
   ]
  },
  {
   "cell_type": "markdown",
   "id": "b6a43a32",
   "metadata": {},
   "source": [
    "4.What is the value of spam[-1]?\n",
    "\n",
    "'d'"
   ]
  },
  {
   "cell_type": "markdown",
   "id": "3e7b541d",
   "metadata": {},
   "source": [
    "5.What is the value of spam[:2]?\n",
    "\n",
    "['a', 'b']"
   ]
  },
  {
   "cell_type": "markdown",
   "id": "1c721be9",
   "metadata": {},
   "source": [
    "### Let's pretend bacon has the list [3.14, 'cat', 11, 'cat', True] for the next three questions.\n"
   ]
  },
  {
   "cell_type": "markdown",
   "id": "7decdabf",
   "metadata": {},
   "source": [
    "6.What is the value of bacon.index('cat')?\n",
    "\n",
    "1"
   ]
  },
  {
   "cell_type": "markdown",
   "id": "832d2f9c",
   "metadata": {},
   "source": [
    "7.How does bacon.append(99) change the look of the list value in bacon?\n",
    "\n",
    "[3.14, 'cat', 11, 'cat', True, 99]"
   ]
  },
  {
   "cell_type": "markdown",
   "id": "bafc095a",
   "metadata": {},
   "source": [
    "8.How does bacon.remove('cat') change the look of the list in bacon?\n",
    "\n",
    "[3.14, 11, 'cat', True, 99]"
   ]
  },
  {
   "cell_type": "markdown",
   "id": "e6ad0dd1",
   "metadata": {},
   "source": [
    "9.What are the list concatenation and list replication operators?\n",
    "\n",
    "list concatenation operator ' + ',  list replication operator ' * '"
   ]
  },
  {
   "cell_type": "markdown",
   "id": "cc202bb9",
   "metadata": {},
   "source": [
    "10.What is difference between the list methods append() and insert()?\n",
    "\n",
    "append()-Append object to the end of the list, insert()-It takes two parameter: index and object. It insert object before index"
   ]
  },
  {
   "cell_type": "markdown",
   "id": "3a7c20dc",
   "metadata": {},
   "source": [
    "11.What are the two methods for removing items from a list?\n",
    "\n",
    "remove()  and  pop()"
   ]
  },
  {
   "cell_type": "markdown",
   "id": "88708cb0",
   "metadata": {},
   "source": [
    "12.Describe how list values and string values are identical.\n",
    "\n",
    "They both are sequences"
   ]
  },
  {
   "cell_type": "markdown",
   "id": "465f41c7",
   "metadata": {},
   "source": [
    "13.What's the difference between tuples and lists?\n",
    "\n",
    "lists are mutable and tuples are immutable"
   ]
  },
  {
   "cell_type": "markdown",
   "id": "dbb096dc",
   "metadata": {},
   "source": [
    "14.How do you type a tuple value that only contains the integer 42?\n",
    "\n",
    "t=(42,)"
   ]
  },
  {
   "cell_type": "markdown",
   "id": "036dce01",
   "metadata": {},
   "source": [
    "15.How do you get a list value's tuple form? How do you get a tuple value's list form?\n",
    "\n",
    "Typecast list to tuple using tuple(list_name).   Typecast tuple to list using list(tuple_name)"
   ]
  },
  {
   "cell_type": "markdown",
   "id": "a6c7bcf1",
   "metadata": {},
   "source": [
    "16.Variables that \"contain\" list values are not necessarily lists themselves. Instead, what do they contain?\n",
    "\n",
    "They contain reference to the list values"
   ]
  },
  {
   "cell_type": "markdown",
   "id": "6d248268",
   "metadata": {},
   "source": [
    "17. How do you distinguish between copy.copy() and copy.deepcopy()?\n",
    "\n",
    "copy.copy()-Here updation of the original nested list updates the copy as well.  copy.deepcopy()- Here updation of the original nested list don't affect the copied variable "
   ]
  }
 ],
 "metadata": {
  "kernelspec": {
   "display_name": "Python 3 (ipykernel)",
   "language": "python",
   "name": "python3"
  },
  "language_info": {
   "codemirror_mode": {
    "name": "ipython",
    "version": 3
   },
   "file_extension": ".py",
   "mimetype": "text/x-python",
   "name": "python",
   "nbconvert_exporter": "python",
   "pygments_lexer": "ipython3",
   "version": "3.9.9"
  }
 },
 "nbformat": 4,
 "nbformat_minor": 5
}
