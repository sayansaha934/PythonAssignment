{
 "cells": [
  {
   "cell_type": "markdown",
   "id": "ab7779b1",
   "metadata": {},
   "source": [
    "1.What are escape characters, and how do you use them?\n",
    "\n",
    "' \\t ' for tab, ' \\n ' for new line, ' \\r ' for carriage return.  "
   ]
  },
  {
   "cell_type": "markdown",
   "id": "74ce40fa",
   "metadata": {},
   "source": [
    "2.What do the escape characters n and t stand for?\n",
    "\n",
    "n stands for new line, t stands for tab."
   ]
  },
  {
   "cell_type": "markdown",
   "id": "684158bc",
   "metadata": {},
   "source": [
    "3.What is the way to include backslash characters in a string?\n",
    "\n",
    "If we want to include a backlash character in a string, we have to use two backlash"
   ]
  },
  {
   "cell_type": "markdown",
   "id": "2438bcf0",
   "metadata": {},
   "source": [
    "4.The string \"Howl's Moving Castle\" is a correct value. Why isn't the single quote character in the word Howl's not escaped a problem?\n",
    "\n",
    "Here double quotes have been used to mark begining and ending of the string."
   ]
  },
  {
   "cell_type": "markdown",
   "id": "6b0e6eee",
   "metadata": {},
   "source": [
    "5.How do you write a string of newlines if you don't want to use the n character?\n",
    "\n",
    "We have to write the string in triple quotes."
   ]
  },
  {
   "cell_type": "markdown",
   "id": "3c97e71b",
   "metadata": {},
   "source": [
    "6.What are the values of the given expressions?\n",
    "'Hello, world!'[1]\n",
    "'Hello, world!'[0:5]\n",
    "'Hello, world!'[:5]\n",
    "'Hello, world!'[3:]\n",
    "\n",
    "\n",
    "'Hello, world!'[1] = 'e',  'Hello, world!'[0:5] = 'Hello',  'Hello, world!'[:5] = 'Hello',  'Hello, world!'[3:] = 'lo, world!'"
   ]
  },
  {
   "cell_type": "markdown",
   "id": "f55107bc",
   "metadata": {},
   "source": [
    "7.What are the values of the following expressions?\n",
    "'Hello'.upper()\n",
    "'Hello'.upper().isupper()\n",
    "'Hello'.upper().lower()\n",
    "\n",
    "\n",
    "'Hello'.upper() = 'HELLO',  'Hello'.upper().isupper() = True,  'Hello'.upper().lower() = 'hello'"
   ]
  },
  {
   "cell_type": "markdown",
   "id": "96d46354",
   "metadata": {},
   "source": [
    "8.What are the values of the following expressions?\n",
    "'Remember, remember, the fifth of July.'.split()\n",
    "'-'.join('There can only one.'.split())\n",
    "\n",
    "['Remember,', 'remember,', 'the', 'fifth', 'of', 'July.'],   'There-can-only-one.'"
   ]
  },
  {
   "cell_type": "markdown",
   "id": "dab49441",
   "metadata": {},
   "source": [
    "9.What are the methods for right-justifying, left-justifying, and centering a string?\n",
    "\n",
    "rjust() for right-justifying,  ljust() for left-justifying,  center() for centering"
   ]
  },
  {
   "cell_type": "markdown",
   "id": "01d9849d",
   "metadata": {},
   "source": [
    "10.What is the best way to remove whitespace characters from the start or end?\n",
    "\n",
    "strip() removes all whitespace character from the start or end"
   ]
  }
 ],
 "metadata": {
  "kernelspec": {
   "display_name": "Python 3 (ipykernel)",
   "language": "python",
   "name": "python3"
  },
  "language_info": {
   "codemirror_mode": {
    "name": "ipython",
    "version": 3
   },
   "file_extension": ".py",
   "mimetype": "text/x-python",
   "name": "python",
   "nbconvert_exporter": "python",
   "pygments_lexer": "ipython3",
   "version": "3.9.9"
  }
 },
 "nbformat": 4,
 "nbformat_minor": 5
}
